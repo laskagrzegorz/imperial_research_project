{
 "cells": [
  {
   "cell_type": "code",
   "execution_count": 3,
   "id": "initial_id",
   "metadata": {
    "collapsed": true,
    "ExecuteTime": {
     "end_time": "2024-06-29T11:45:54.222589Z",
     "start_time": "2024-06-29T11:45:54.167457Z"
    }
   },
   "outputs": [
    {
     "ename": "ModuleNotFoundError",
     "evalue": "No module named 'plotly'",
     "output_type": "error",
     "traceback": [
      "\u001B[0;31m---------------------------------------------------------------------------\u001B[0m",
      "\u001B[0;31mModuleNotFoundError\u001B[0m                       Traceback (most recent call last)",
      "Cell \u001B[0;32mIn[3], line 1\u001B[0m\n\u001B[0;32m----> 1\u001B[0m \u001B[38;5;28;01mfrom\u001B[39;00m \u001B[38;5;21;01mtime_series_functions\u001B[39;00m \u001B[38;5;28;01mimport\u001B[39;00m \u001B[38;5;241m*\u001B[39m\n",
      "File \u001B[0;32m~/Desktop/PycharmProjects/imperial_research_project/source/time_series_functions.py:4\u001B[0m\n\u001B[1;32m      2\u001B[0m \u001B[38;5;28;01mimport\u001B[39;00m \u001B[38;5;21;01mpandas\u001B[39;00m \u001B[38;5;28;01mas\u001B[39;00m \u001B[38;5;21;01mpd\u001B[39;00m\n\u001B[1;32m      3\u001B[0m \u001B[38;5;28;01mimport\u001B[39;00m \u001B[38;5;21;01mscipy\u001B[39;00m\u001B[38;5;21;01m.\u001B[39;00m\u001B[38;5;21;01mstats\u001B[39;00m \u001B[38;5;28;01mas\u001B[39;00m \u001B[38;5;21;01mstats\u001B[39;00m\n\u001B[0;32m----> 4\u001B[0m \u001B[38;5;28;01mimport\u001B[39;00m \u001B[38;5;21;01mplotly\u001B[39;00m\u001B[38;5;21;01m.\u001B[39;00m\u001B[38;5;21;01mgraph_objects\u001B[39;00m \u001B[38;5;28;01mas\u001B[39;00m \u001B[38;5;21;01mgo\u001B[39;00m\n\u001B[1;32m      5\u001B[0m \u001B[38;5;28;01mfrom\u001B[39;00m \u001B[38;5;21;01mitertools\u001B[39;00m \u001B[38;5;28;01mimport\u001B[39;00m combinations\n\u001B[1;32m      6\u001B[0m \u001B[38;5;28;01mimport\u001B[39;00m \u001B[38;5;21;01mnetworkx\u001B[39;00m \u001B[38;5;28;01mas\u001B[39;00m \u001B[38;5;21;01mnx\u001B[39;00m\n",
      "\u001B[0;31mModuleNotFoundError\u001B[0m: No module named 'plotly'"
     ]
    }
   ],
   "source": [
    "from time_series_functions import *"
   ]
  },
  {
   "cell_type": "code",
   "outputs": [
    {
     "ename": "NameError",
     "evalue": "name 'go' is not defined",
     "output_type": "error",
     "traceback": [
      "\u001B[0;31m---------------------------------------------------------------------------\u001B[0m",
      "\u001B[0;31mNameError\u001B[0m                                 Traceback (most recent call last)",
      "Cell \u001B[0;32mIn[11], line 17\u001B[0m\n\u001B[1;32m     14\u001B[0m x \u001B[38;5;241m=\u001B[39m generate_var_process(A_list_complex, T, \u001B[38;5;241m1000\u001B[39m)\n\u001B[1;32m     15\u001B[0m x \u001B[38;5;241m=\u001B[39m x \u001B[38;5;241m-\u001B[39m np\u001B[38;5;241m.\u001B[39mmean(x, axis\u001B[38;5;241m=\u001B[39m\u001B[38;5;241m1\u001B[39m, keepdims\u001B[38;5;241m=\u001B[39m\u001B[38;5;28;01mTrue\u001B[39;00m)\n\u001B[0;32m---> 17\u001B[0m \u001B[43mplot_time_series\u001B[49m\u001B[43m(\u001B[49m\u001B[43mx\u001B[49m\u001B[43m)\u001B[49m\n",
      "File \u001B[0;32m~/Desktop/PycharmProjects/pythonProject1/research_project/time_series_functions.py:66\u001B[0m, in \u001B[0;36mplot_time_series\u001B[0;34m(x)\u001B[0m\n\u001B[1;32m     63\u001B[0m T \u001B[38;5;241m=\u001B[39m x\u001B[38;5;241m.\u001B[39mshape[\u001B[38;5;241m1\u001B[39m]\n\u001B[1;32m     64\u001B[0m time \u001B[38;5;241m=\u001B[39m np\u001B[38;5;241m.\u001B[39marange(T)\n\u001B[0;32m---> 66\u001B[0m fig \u001B[38;5;241m=\u001B[39m \u001B[43mgo\u001B[49m\u001B[38;5;241m.\u001B[39mFigure()\n\u001B[1;32m     68\u001B[0m fig\u001B[38;5;241m.\u001B[39madd_trace(go\u001B[38;5;241m.\u001B[39mScatter(x\u001B[38;5;241m=\u001B[39mtime, y\u001B[38;5;241m=\u001B[39mx[\u001B[38;5;241m0\u001B[39m], mode\u001B[38;5;241m=\u001B[39m\u001B[38;5;124m'\u001B[39m\u001B[38;5;124mlines\u001B[39m\u001B[38;5;124m'\u001B[39m, name\u001B[38;5;241m=\u001B[39m\u001B[38;5;124m'\u001B[39m\u001B[38;5;124mx1_t\u001B[39m\u001B[38;5;124m'\u001B[39m))\n\u001B[1;32m     69\u001B[0m fig\u001B[38;5;241m.\u001B[39madd_trace(go\u001B[38;5;241m.\u001B[39mScatter(x\u001B[38;5;241m=\u001B[39mtime, y\u001B[38;5;241m=\u001B[39mx[\u001B[38;5;241m1\u001B[39m], mode\u001B[38;5;241m=\u001B[39m\u001B[38;5;124m'\u001B[39m\u001B[38;5;124mlines\u001B[39m\u001B[38;5;124m'\u001B[39m, name\u001B[38;5;241m=\u001B[39m\u001B[38;5;124m'\u001B[39m\u001B[38;5;124mx2_t\u001B[39m\u001B[38;5;124m'\u001B[39m, line\u001B[38;5;241m=\u001B[39m\u001B[38;5;28mdict\u001B[39m(color\u001B[38;5;241m=\u001B[39m\u001B[38;5;124m'\u001B[39m\u001B[38;5;124morange\u001B[39m\u001B[38;5;124m'\u001B[39m)))\n",
      "\u001B[0;31mNameError\u001B[0m: name 'go' is not defined"
     ]
    }
   ],
   "source": [
    "a1, a2, a3 = 0.5, 0.5, 0.1\n",
    "b1, b2, b3 = 0.25, 0.5, 0.0\n",
    "c1, c2, c3 = 0.25, 0.0, 0.5\n",
    "\n",
    "A = np.array([\n",
    "    [a1, a2, a3],\n",
    "    [b1, b2, b3],\n",
    "    [c1, c2, c3]\n",
    "])\n",
    "\n",
    "A_list_complex = [A]\n",
    "\n",
    "T = 1024\n",
    "x = generate_var_process(A_list_complex, T, 1000)\n",
    "x = x - np.mean(x, axis=1, keepdims=True)\n",
    "\n",
    "plot_time_series(x)\n"
   ],
   "metadata": {
    "collapsed": false,
    "ExecuteTime": {
     "end_time": "2024-06-25T09:39:15.926754Z",
     "start_time": "2024-06-25T09:39:15.899426Z"
    }
   },
   "id": "76d9c228bb406fb8",
   "execution_count": 11
  },
  {
   "cell_type": "code",
   "outputs": [
    {
     "name": "stdout",
     "output_type": "stream",
     "text": [
      "Zero entries where both A[j, k] and A[k, j] are zero:\n",
      "{(0, 1), (0, 3), (0, 4), (1, 4)}\n"
     ]
    }
   ],
   "source": [
    "import numpy as np\n",
    "\n",
    "def find_missing_edges(A_list):\n",
    "    zero_entries = set()\n",
    "    for A in A_list:\n",
    "        n = A.shape[0]\n",
    "        for j in range(n):\n",
    "            for k in range(j + 1, n):  # ensuring j < k\n",
    "                if A[j, k] == 0 and A[k, j] == 0:\n",
    "                    zero_entries.add((j, k))\n",
    "    return zero_entries\n",
    "\n",
    "# Example usage:\n",
    "A_list_bigger = [np.array([\n",
    "    [0.3, 0.0, 0.2, 0.0, 0.0],\n",
    "    [0.0, 0.3, 0.2, 0.2, 0.0],\n",
    "    [0.2, 0.2, 0.3, 0.2, 0.2],\n",
    "    [0.0, 0.2, 0.2, 0.3, 0.2],\n",
    "    [0.0, 0.0, 0.2, 0.2, 0.3]\n",
    "])]\n",
    "\n",
    "zero_entries = find_missing_edges(A_list_bigger)\n",
    "print(\"Zero entries where both A[j, k] and A[k, j] are zero:\")\n",
    "print(zero_entries)"
   ],
   "metadata": {
    "collapsed": false,
    "ExecuteTime": {
     "end_time": "2024-06-26T17:16:59.534541Z",
     "start_time": "2024-06-26T17:16:59.532150Z"
    }
   },
   "id": "9829b41bfd7c903c",
   "execution_count": 5
  },
  {
   "cell_type": "code",
   "outputs": [],
   "source": [
    "import networkx as nx\n",
    "import matplotlib.pyplot as plt\n",
    "def plot_graph(num_vertices, pred_edges, true_edges):\n",
    "    \"\"\"\n",
    "    Plot a graph structure given a number of vertices, predicted edges, and true edges.\n",
    "\n",
    "    Parameters:\n",
    "    num_vertices (int): The number of vertices.\n",
    "    pred_edges (set of tuples): A set of tuples representing predicted edges between nodes.\n",
    "    true_edges (set of tuples): A set of tuples representing true edges between nodes.\n",
    "    \"\"\"\n",
    "\n",
    "\n",
    "    # Create a NetworkX graph\n",
    "    G = nx.Graph()\n",
    "    G.add_nodes_from(range(num_vertices))  # Ensure all vertices are added\n",
    "    G.add_edges_from(pred_edges | true_edges)\n",
    "\n",
    "    # Determine edge colors based on their presence in true_edges and pred_edges\n",
    "    edge_colors = []\n",
    "    for edge in G.edges():\n",
    "        if edge in true_edges and edge in pred_edges:\n",
    "            edge_colors.append('green')  # edge present in both true_edges and pred_edges\n",
    "        elif edge in pred_edges:\n",
    "            edge_colors.append('blue')   # edge only in pred_edges\n",
    "        elif edge in true_edges:\n",
    "            edge_colors.append('orange')  # edge only in true_edges\n",
    "            \n",
    "    # Rename nodes to X0, X1, X2, ...\n",
    "    mapping = {node: f\"X{node}\" for node in G.nodes()}\n",
    "    G = nx.relabel_nodes(G, mapping)\n",
    "            \n",
    "    print(G.edges())\n",
    "    print(edge_colors)\n",
    "\n",
    "    # Draw the graph\n",
    "    pos = nx.circular_layout(G)  # positions for all nodes\n",
    "    nx.draw(G, pos, with_labels=True, node_color='skyblue', node_size=1000, edge_color=edge_colors)\n",
    "\n",
    "    plt.draw()"
   ],
   "metadata": {
    "collapsed": false,
    "ExecuteTime": {
     "end_time": "2024-06-26T17:34:55.797173Z",
     "start_time": "2024-06-26T17:34:55.794182Z"
    }
   },
   "id": "9c71557528ef8b79",
   "execution_count": 18
  },
  {
   "cell_type": "code",
   "outputs": [
    {
     "name": "stdout",
     "output_type": "stream",
     "text": [
      "[('X0', 'X1'), ('X0', 'X3'), ('X0', 'X4'), ('X1', 'X4')]\n",
      "['green', 'green', 'green', 'green']\n"
     ]
    },
    {
     "data": {
      "text/plain": "<Figure size 640x480 with 1 Axes>",
      "image/png": "[encoded data removed]"
     },
     "metadata": {},
     "output_type": "display_data"
    }
   ],
   "source": [
    "plot_graph(5, zero_entries, zero_entries)"
   ],
   "metadata": {
    "collapsed": false,
    "ExecuteTime": {
     "end_time": "2024-06-26T17:34:56.368541Z",
     "start_time": "2024-06-26T17:34:56.325209Z"
    }
   },
   "id": "e947674f7babecaa",
   "execution_count": 19
  },
  {
   "cell_type": "code",
   "outputs": [
    {
     "name": "stdout",
     "output_type": "stream",
     "text": [
      "Eigenvalues: [-0.17003515  0.62475964  0.02335355  0.19635816  0.46808738  0.2872772\n",
      "  0.32019923]\n",
      "Stationary: True\n"
     ]
    }
   ],
   "source": [
    "A_list_7x7_stationary = [np.array([\n",
    "    [ 0.25,  0.10, -0.10,  0.05, -0.05,  0.10, -0.15],\n",
    "    [ 0.10,  0.20,  0.05, -0.10,  0.05,  0.15, -0.10],\n",
    "    [-0.10,  0.05,  0.30,  0.10, -0.15,  0.05,  0.10],\n",
    "    [ 0.05, -0.10,  0.10,  0.25,  0.10, -0.15,  0.05],\n",
    "    [-0.05,  0.05, -0.15,  0.10,  0.20,  0.10, -0.10],\n",
    "    [ 0.10,  0.15,  0.05, -0.15,  0.10,  0.25,  0.05],\n",
    "    [-0.15, -0.10,  0.10,  0.05, -0.10,  0.05,  0.30]\n",
    "])]\n",
    "\n",
    "# Check if the matrix is stationary\n",
    "eigenvalues = np.linalg.eigvals(A_list_7x7_stationary[0])\n",
    "print(\"Eigenvalues:\", eigenvalues)\n",
    "print(\"Stationary:\", all(np.abs(eigenvalues) < 1))"
   ],
   "metadata": {
    "collapsed": false,
    "ExecuteTime": {
     "end_time": "2024-06-28T20:01:47.939935Z",
     "start_time": "2024-06-28T20:01:47.922893Z"
    }
   },
   "id": "711a8cdb0beba451",
   "execution_count": 22
  },
  {
   "cell_type": "code",
   "outputs": [],
   "source": [],
   "metadata": {
    "collapsed": false
   },
   "id": "ed451fa69e8baa2e"
  }
 ],
 "metadata": {
  "kernelspec": {
   "name": "venv",
   "language": "python",
   "display_name": "venv"
  },
  "language_info": {
   "codemirror_mode": {
    "name": "ipython",
    "version": 2
   },
   "file_extension": ".py",
   "mimetype": "text/x-python",
   "name": "python",
   "nbconvert_exporter": "python",
   "pygments_lexer": "ipython2",
   "version": "2.7.6"
  }
 },
 "nbformat": 4,
 "nbformat_minor": 5
}
